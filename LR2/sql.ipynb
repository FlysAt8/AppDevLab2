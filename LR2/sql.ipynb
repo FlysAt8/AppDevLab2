{
 "cells": [
  {
   "cell_type": "code",
   "execution_count": 4,
   "id": "7eaf80a9",
   "metadata": {},
   "outputs": [
    {
     "name": "stderr",
     "output_type": "stream",
     "text": [
      "\u001b[1m\u001b[31merror\u001b[39m\u001b[0m: No `pyproject.toml` found in current directory or any parent directory\n"
     ]
    }
   ],
   "source": [
    "!uv add sqlalchemy"
   ]
  },
  {
   "cell_type": "code",
   "execution_count": 5,
   "id": "dafd8990",
   "metadata": {},
   "outputs": [
    {
     "name": "stdout",
     "output_type": "stream",
     "text": [
      "Creating directory c:\\Razrab\\LR2\\migrations ...  done\n",
      "Creating directory c:\\Razrab\\LR2\\migrations\\versions ...  done\n",
      "Generating c:\\Razrab\\LR2\\alembic.ini ...  done\n",
      "Generating c:\\Razrab\\LR2\\migrations\\env.py ...  done\n",
      "Generating c:\\Razrab\\LR2\\migrations\\README ...  done\n",
      "Generating c:\\Razrab\\LR2\\migrations\\script.py.mako ...  done\n",
      "Please edit configuration/connection/logging settings in c:\\Razrab\\LR2\\alembic.ini before proceeding.\n"
     ]
    }
   ],
   "source": [
    "!alembic init migrations"
   ]
  }
 ],
 "metadata": {
  "kernelspec": {
   "display_name": "Python 3",
   "language": "python",
   "name": "python3"
  },
  "language_info": {
   "codemirror_mode": {
    "name": "ipython",
    "version": 3
   },
   "file_extension": ".py",
   "mimetype": "text/x-python",
   "name": "python",
   "nbconvert_exporter": "python",
   "pygments_lexer": "ipython3",
   "version": "3.13.7"
  }
 },
 "nbformat": 4,
 "nbformat_minor": 5
}
